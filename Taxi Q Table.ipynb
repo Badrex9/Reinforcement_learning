{
 "cells": [
  {
   "cell_type": "code",
   "execution_count": 1,
   "metadata": {},
   "outputs": [
    {
     "name": "stdout",
     "output_type": "stream",
     "text": [
      "Collecting gymnasium\n",
      "  Using cached gymnasium-0.29.1-py3-none-any.whl.metadata (10 kB)\n",
      "Requirement already satisfied: numpy>=1.21.0 in c:\\users\\enzoz\\appdata\\local\\programs\\python\\python311\\lib\\site-packages (from gymnasium) (1.26.4)\n",
      "Requirement already satisfied: cloudpickle>=1.2.0 in c:\\users\\enzoz\\appdata\\local\\programs\\python\\python311\\lib\\site-packages (from gymnasium) (3.0.0)\n",
      "Collecting typing-extensions>=4.3.0 (from gymnasium)\n",
      "  Using cached typing_extensions-4.10.0-py3-none-any.whl.metadata (3.0 kB)\n",
      "Collecting farama-notifications>=0.0.1 (from gymnasium)\n",
      "  Using cached Farama_Notifications-0.0.4-py3-none-any.whl.metadata (558 bytes)\n",
      "Using cached gymnasium-0.29.1-py3-none-any.whl (953 kB)\n",
      "Using cached Farama_Notifications-0.0.4-py3-none-any.whl (2.5 kB)\n",
      "Using cached typing_extensions-4.10.0-py3-none-any.whl (33 kB)\n",
      "Installing collected packages: farama-notifications, typing-extensions, gymnasium\n",
      "Successfully installed farama-notifications-0.0.4 gymnasium-0.29.1 typing-extensions-4.10.0\n",
      "Note: you may need to restart the kernel to use updated packages.\n",
      "Requirement already satisfied: numpy in c:\\users\\enzoz\\appdata\\local\\programs\\python\\python311\\lib\\site-packages (1.26.4)\n",
      "Note: you may need to restart the kernel to use updated packages.\n"
     ]
    }
   ],
   "source": [
    "%pip install gymnasium\n",
    "%pip install numpy"
   ]
  },
  {
   "cell_type": "markdown",
   "metadata": {},
   "source": [
    "Ci-dessous un exemple de test de l'environnement avec des déplacements aléatoires."
   ]
  },
  {
   "cell_type": "code",
   "execution_count": null,
   "metadata": {},
   "outputs": [],
   "source": [
    "import numpy as np\n",
    "import gymnasium as gym\n",
    "import random\n",
    "\n",
    "# create Taxi environment\n",
    "env = gym.make('Taxi-v3', render_mode=\"human\")\n",
    "\n",
    "# create a new instance of taxi, and get the initial state\n",
    "state = env.reset()\n",
    "\n",
    "num_steps = 99\n",
    "for s in range(num_steps+1):\n",
    "    print(f\"step: {s} out of {num_steps}\")\n",
    "\n",
    "    # sample a random action from the list of available actions\n",
    "    action = env.action_space.sample()\n",
    "\n",
    "    # perform this action on the environment\n",
    "    env.step(action)\n",
    "\n",
    "    # print the new state\n",
    "    env.render()\n",
    "\n",
    "# end this instance of the taxi environment\n",
    "env.close()"
   ]
  },
  {
   "cell_type": "markdown",
   "metadata": {},
   "source": [
    "Désormais, on essaye de construire une Q-Table"
   ]
  },
  {
   "cell_type": "code",
   "execution_count": 16,
   "metadata": {},
   "outputs": [
    {
     "name": "stdout",
     "output_type": "stream",
     "text": [
      "Variable env (obs): 500, Number of actions 6\n"
     ]
    },
    {
     "ename": "NameError",
     "evalue": "name 'new_state' is not defined",
     "output_type": "error",
     "traceback": [
      "\u001b[1;31m---------------------------------------------------------------------------\u001b[0m",
      "\u001b[1;31mNameError\u001b[0m                                 Traceback (most recent call last)",
      "Cell \u001b[1;32mIn[16], line 89\u001b[0m\n\u001b[0;32m     86\u001b[0m     env\u001b[38;5;241m.\u001b[39mclose()\n\u001b[0;32m     88\u001b[0m \u001b[38;5;28;01mif\u001b[39;00m \u001b[38;5;18m__name__\u001b[39m \u001b[38;5;241m==\u001b[39m \u001b[38;5;124m\"\u001b[39m\u001b[38;5;124m__main__\u001b[39m\u001b[38;5;124m\"\u001b[39m:\n\u001b[1;32m---> 89\u001b[0m     \u001b[43mmain\u001b[49m\u001b[43m(\u001b[49m\u001b[43m)\u001b[49m\n",
      "Cell \u001b[1;32mIn[16], line 54\u001b[0m, in \u001b[0;36mmain\u001b[1;34m()\u001b[0m\n\u001b[0;32m     48\u001b[0m obs, reward, terminated, truncated, info \u001b[38;5;241m=\u001b[39m env\u001b[38;5;241m.\u001b[39mstep(action)\n\u001b[0;32m     50\u001b[0m \u001b[38;5;66;03m# Q-learning algorithm\u001b[39;00m\n\u001b[0;32m     51\u001b[0m \u001b[38;5;66;03m#qtable[state,action] = qtable[state,action] + learning_rate * (reward + discount_rate * np.max(qtable[new_state,:])-qtable[state,action])\u001b[39;00m\n\u001b[0;32m     52\u001b[0m \n\u001b[0;32m     53\u001b[0m \u001b[38;5;66;03m# Update to our new state\u001b[39;00m\n\u001b[1;32m---> 54\u001b[0m state \u001b[38;5;241m=\u001b[39m \u001b[43mnew_state\u001b[49m\n\u001b[0;32m     56\u001b[0m \u001b[38;5;66;03m# if done, finish episode\u001b[39;00m\n\u001b[0;32m     57\u001b[0m \u001b[38;5;28;01mif\u001b[39;00m done \u001b[38;5;241m==\u001b[39m \u001b[38;5;28;01mTrue\u001b[39;00m:\n",
      "\u001b[1;31mNameError\u001b[0m: name 'new_state' is not defined"
     ]
    }
   ],
   "source": [
    "import numpy as np\n",
    "import gym\n",
    "import random\n",
    "\n",
    "def main():\n",
    "\n",
    "    # create Taxi environment\n",
    "    env = gym.make('Taxi-v3')\n",
    "\n",
    "    # initialize q-table\n",
    "    state_size = env.observation_space.n\n",
    "    action_size = env.action_space.n\n",
    "    print(f\"Variable env (obs): {state_size}, Number of actions {action_size}\")\n",
    "    qtable = np.zeros((state_size, action_size))\n",
    "    \n",
    "    \n",
    "\n",
    "    # hyperparameters\n",
    "    learning_rate = 0.9\n",
    "    discount_rate = 0.8\n",
    "    epsilon = 1.0\n",
    "    decay_rate= 0.005\n",
    "\n",
    "    # training variables\n",
    "    num_episodes = 1  #000\n",
    "    max_steps = 1 #99 # per episode\n",
    "\n",
    "    # training\n",
    "    for episode in range(num_episodes):\n",
    "\n",
    "        # reset the environment\n",
    "        state = env.reset()\n",
    "        done = False\n",
    "        #print(action)\n",
    "        #print(env.observation_space)\n",
    "\n",
    "        for s in range(max_steps):\n",
    "\n",
    "            # exploration-exploitation tradeoff\n",
    "            if random.uniform(0,1) < epsilon:\n",
    "                # explore\n",
    "                action = env.action_space.sample()\n",
    "            else:\n",
    "                # exploit\n",
    "                action = np.argmax(qtable[state,:])\n",
    "\n",
    "            # take action and observe reward\n",
    "            obs, reward, terminated, truncated, info = env.step(action)\n",
    "\n",
    "            # Q-learning algorithm\n",
    "            #qtable[state,action] = qtable[state,action] + learning_rate * (reward + discount_rate * np.max(qtable[new_state,:])-qtable[state,action])\n",
    "\n",
    "            # Update to our new state\n",
    "            state = new_state\n",
    "\n",
    "            # if done, finish episode\n",
    "            if done == True:\n",
    "                break\n",
    "\n",
    "        # Decrease epsilon\n",
    "        epsilon = np.exp(-decay_rate*episode)\n",
    "\n",
    "    print(f\"Training completed over {num_episodes} episodes\")\n",
    "    input(\"Press Enter to watch trained agent...\")\n",
    "\n",
    "    # watch trained agent\n",
    "    state = env.reset()\n",
    "    done = False\n",
    "    rewards = 0\n",
    "\n",
    "    for s in range(max_steps):\n",
    "\n",
    "        print(f\"TRAINED AGENT\")\n",
    "        print(\"Step {}\".format(s+1))\n",
    "\n",
    "        action = np.argmax(qtable[state,:])\n",
    "        obs, reward, terminated, truncated, info = env.step(action)\n",
    "        rewards += reward\n",
    "        env.render()\n",
    "        print(f\"score: {rewards}\")\n",
    "        state = new_state\n",
    "\n",
    "        if done == True:\n",
    "            break\n",
    "\n",
    "    env.close()\n",
    "\n",
    "if __name__ == \"__main__\":\n",
    "    main()"
   ]
  }
 ],
 "metadata": {
  "kernelspec": {
   "display_name": "base",
   "language": "python",
   "name": "python3"
  },
  "language_info": {
   "codemirror_mode": {
    "name": "ipython",
    "version": 3
   },
   "file_extension": ".py",
   "mimetype": "text/x-python",
   "name": "python",
   "nbconvert_exporter": "python",
   "pygments_lexer": "ipython3",
   "version": "3.11.8"
  }
 },
 "nbformat": 4,
 "nbformat_minor": 2
}
