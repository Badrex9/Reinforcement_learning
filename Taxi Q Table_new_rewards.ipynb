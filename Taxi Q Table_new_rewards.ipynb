{
 "cells": [
  {
   "cell_type": "code",
   "execution_count": null,
   "metadata": {},
   "outputs": [],
   "source": [
    "%pip install gymnasium\n",
    "%pip install numpy"
   ]
  },
  {
   "cell_type": "markdown",
   "metadata": {},
   "source": [
    "Ci-dessous un exemple de test de l'environnement avec des déplacements aléatoires."
   ]
  },
  {
   "cell_type": "code",
   "execution_count": null,
   "metadata": {},
   "outputs": [],
   "source": [
    "import numpy as np\n",
    "import gymnasium as gym\n",
    "import random\n",
    "\n",
    "# create Taxi environment\n",
    "env = gym.make('Taxi-v3', render_mode=\"human\")\n",
    "\n",
    "# create a new instance of taxi, and get the initial state\n",
    "state = env.reset()\n",
    "\n",
    "num_steps = 99\n",
    "for s in range(num_steps+1):\n",
    "    print(f\"step: {s} out of {num_steps}\")\n",
    "\n",
    "    # sample a random action from the list of available actions\n",
    "    action = env.action_space.sample()\n",
    "\n",
    "    # perform this action on the environment\n",
    "    env.step(action)\n",
    "\n",
    "    # print the new state\n",
    "    env.render()\n",
    "\n",
    "# end this instance of the taxi environment\n",
    "env.close()"
   ]
  },
  {
   "cell_type": "markdown",
   "metadata": {},
   "source": [
    "Désormais, on essaye de construire une Q-Table"
   ]
  },
  {
   "cell_type": "code",
   "execution_count": null,
   "metadata": {},
   "outputs": [],
   "source": [
    "import numpy as np\n",
    "import gym\n",
    "import random\n",
    "\n",
    "\n",
    "# create Taxi environment\n",
    "env = gym.make('Taxi-v3')\n",
    "\n",
    "# initialize q-table\n",
    "state_size = env.observation_space.n\n",
    "action_size = env.action_space.n\n",
    "print(f\"Variable env (obs): {state_size}, Number of actions {action_size}\")\n",
    "qtable = np.zeros((state_size, action_size))\n",
    "\n",
    "\n",
    "\n",
    "# hyperparameters\n",
    "learning_rate = 0.9\n",
    "discount_rate = 0.8\n",
    "epsilon = 1.0\n",
    "decay_rate= 0.005\n",
    "\n",
    "# training variables\n",
    "num_episodes = 1000\n",
    "max_steps = 99 # per episode\n",
    "\n",
    "# training\n",
    "for episode in range(num_episodes):\n",
    "\n",
    "    # reset the environment\n",
    "    state_table = env.reset()\n",
    "    state = state_table[0]\n",
    "    done = False\n",
    "\n",
    "    for s in range(max_steps):\n",
    "\n",
    "        # exploration-exploitation tradeoff\n",
    "        if random.uniform(0,1) < epsilon:\n",
    "            # explore\n",
    "            action = env.action_space.sample()\n",
    "            print(action)\n",
    "        else:\n",
    "            # exploit\n",
    "            action = np.argmax(qtable[state,:])\n",
    "\n",
    "        # take action and observe reward\n",
    "        #print(state)   \n",
    "\n",
    "        obs, reward, terminated, truncated, info = env.step(action)\n",
    "\n",
    "        #print(obs)\n",
    "\n",
    "        qtable[state,action] = qtable[state,action] + learning_rate * (reward + discount_rate * np.max(qtable[obs,:])-qtable[state,action])\n",
    "\n",
    "        # Update to our new state\n",
    "        state = obs\n",
    "\n",
    "        # if done, finish episode\n",
    "        if done == True:\n",
    "            break\n",
    "\n",
    "    # Decrease epsilon\n",
    "    epsilon = np.exp(-decay_rate*episode)\n",
    "\n",
    "print(f\"Training completed over {num_episodes} episodes\")"
   ]
  },
  {
   "cell_type": "code",
   "execution_count": null,
   "metadata": {},
   "outputs": [],
   "source": [
    "print(qtable)"
   ]
  },
  {
   "cell_type": "code",
   "execution_count": null,
   "metadata": {},
   "outputs": [],
   "source": [
    "# watch trained agent\n",
    "env = gym.make('Taxi-v3', render_mode=\"human\")\n",
    "state_table = env.reset()\n",
    "state = state_table[0]\n",
    "terminated = False\n",
    "rewards = 0\n",
    "\n",
    "for s in range(20):\n",
    "\n",
    "    print(f\"TRAINED AGENT\")\n",
    "    print(\"Step {}\".format(s+1))\n",
    "\n",
    "    action = np.argmax(qtable[state,:])\n",
    "    print(action)\n",
    "    obs, reward, terminated, truncated, info = env.step(action)\n",
    "    rewards += reward\n",
    "    env.render()\n",
    "    print(f\"score: {rewards}\")\n",
    "    state = obs\n",
    "\n",
    "    if terminated == True:\n",
    "        break\n",
    "\n",
    "env.close()"
   ]
  }
 ],
 "metadata": {
  "kernelspec": {
   "display_name": "base",
   "language": "python",
   "name": "python3"
  },
  "language_info": {
   "codemirror_mode": {
    "name": "ipython",
    "version": 3
   },
   "file_extension": ".py",
   "mimetype": "text/x-python",
   "name": "python",
   "nbconvert_exporter": "python",
   "pygments_lexer": "ipython3",
   "version": "3.11.8"
  }
 },
 "nbformat": 4,
 "nbformat_minor": 2
}
